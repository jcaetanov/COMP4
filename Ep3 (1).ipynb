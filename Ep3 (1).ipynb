{
  "nbformat": 4,
  "nbformat_minor": 0,
  "metadata": {
    "colab": {
      "name": "Ep3.ipynb",
      "provenance": []
    },
    "kernelspec": {
      "name": "python3",
      "display_name": "Python 3"
    }
  },
  "cells": [
    {
      "cell_type": "code",
      "metadata": {
        "id": "Whxxz4mqPVw_",
        "colab_type": "code",
        "colab": {}
      },
      "source": [
        ""
      ],
      "execution_count": null,
      "outputs": []
    },
    {
      "cell_type": "markdown",
      "metadata": {
        "id": "Idqj4DCwPfaZ",
        "colab_type": "text"
      },
      "source": [
        "# EP 3 integração de EDOs\n"
      ]
    },
    {
      "cell_type": "code",
      "metadata": {
        "id": "NipSyNmsPn3T",
        "colab_type": "code",
        "colab": {}
      },
      "source": [
        "#variáveis\n",
        "pepsi=0.005\n",
        "a=0.5\n",
        "b=0.15\n",
        "p=1.0\n",
        "I=1 #i=0.4 ate 2\n",
        "\n",
        "def f(y,x):\n",
        "  v=y[0]\n",
        "  w=y[1]\n",
        "  dv= (v*(v-a)*(1-v)-w+I)*(1/pepsi)\n",
        "  dw= v - p*w - b\n",
        "  return dv,dw\n",
        "\n"
      ],
      "execution_count": 1,
      "outputs": []
    },
    {
      "cell_type": "code",
      "metadata": {
        "id": "jHc3xuW2QC_y",
        "colab_type": "code",
        "colab": {}
      },
      "source": [
        "import numpy as np"
      ],
      "execution_count": 2,
      "outputs": []
    },
    {
      "cell_type": "code",
      "metadata": {
        "id": "ctd1bxJ8QFzp",
        "colab_type": "code",
        "colab": {}
      },
      "source": [
        "s0 = [0,0]\n",
        "x = np.linspace(0,10,10000)\n",
        "\n"
      ],
      "execution_count": 4,
      "outputs": []
    },
    {
      "cell_type": "code",
      "metadata": {
        "id": "JhbansHFT7_k",
        "colab_type": "code",
        "colab": {}
      },
      "source": [
        "import matplotlib.pyplot as plt\n",
        "from scipy.integrate import odeint\n",
        "for k in range(1):\n",
        " \n",
        " \n",
        "  y=odeint(f,s0,x)\n",
        "  plt.xlabel('x')\n",
        "  plt.ylabel('y')  \n",
        "  plt.plot(x,y[:,0], '-')\n",
        "  plt.plot(x,y[:,1], 'b')\n",
        "  plt.show()\n",
        "\n",
        "\n",
        "  "
      ],
      "execution_count": null,
      "outputs": []
    },
    {
      "cell_type": "code",
      "metadata": {
        "id": "zIGsCyf4hKiP",
        "colab_type": "code",
        "colab": {}
      },
      "source": [
        "for k in range(1):\n",
        "  y=odeint(f,s0,x)\n",
        " # y[:,0]=y[:,1] - 0.15\n",
        "  \n",
        "  plt.xlabel('x')\n",
        "  plt.ylabel('y')  \n",
        "  plt.plot(y[:,0],y[:,1], '-')\n",
        "  plt.show()\n",
        " "
      ],
      "execution_count": null,
      "outputs": []
    },
    {
      "cell_type": "code",
      "metadata": {
        "id": "ip1LlZT8kaF7",
        "colab_type": "code",
        "colab": {}
      },
      "source": [
        "import scipy.integrate as integration\n",
        "def isoclina(v):\n",
        "\n",
        "  return (v*(v-a)*(1-v)+I), ((v-b)/p)\n",
        "#Cálculo das isóclinas\n",
        "def isoclines(iso):\n",
        "  temp1,temp2=[],[]\n",
        "  for i in range(10000):\n",
        "    val1,val2=isoclina(iso[i])\n",
        "    temp1.append(val1)\n",
        "    temp2.append(val2)\n",
        "  return [temp1, temp2]"
      ],
      "execution_count": null,
      "outputs": []
    },
    {
      "cell_type": "code",
      "metadata": {
        "id": "fzxPR2pdiqfe",
        "colab_type": "code",
        "colab": {}
      },
      "source": [
        " for k in range(1):\n",
        " \n",
        " \n",
        "  y=odeint(f,s0,x)\n",
        "  plt.xlabel('x')\n",
        "  plt.ylabel('y')  \n",
        "  plt.plot(y[:,0],y[:,1], '-')\n",
        "  vec_integration_test=[0,5]\n",
        "  vec_x=[0,0.0005]\n",
        "  iso=np.linspace(0,1,10000)\n",
        "  isoV,isoW=isoclines(iso)\n",
        "\n",
        "  plt.plot(iso,isoV,'purple',label=\"Isoclina V\")\n",
        "  plt.plot(iso,isoW,'r',label=\"Isoclina W\")\n",
        "  test=integration.solve_ivp(f, vec_integration_test , vec_x)\n",
        "  p1,p2=test.y , test.t\n",
        "  v,w=p1[0],p1[1]\n",
        "  \n",
        "  plt.plot(v,w,label=\" v e w\")\n",
        "  plt.show()"
      ],
      "execution_count": null,
      "outputs": []
    }
  ]
}